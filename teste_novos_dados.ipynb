{
 "cells": [
  {
   "cell_type": "code",
   "execution_count": 1,
   "id": "ee0da64d",
   "metadata": {},
   "outputs": [],
   "source": [
    "import pickle\n",
    "import pandas as pd"
   ]
  },
  {
   "cell_type": "markdown",
   "id": "407ddb10",
   "metadata": {},
   "source": [
    "# Desserialização do arquivo do modelo"
   ]
  },
  {
   "cell_type": "code",
   "execution_count": 2,
   "id": "b145d92f",
   "metadata": {},
   "outputs": [],
   "source": [
    "with open('RF_model.pickle', 'rb') as arquivo:\n",
    "    RF_model = pickle.load(arquivo)"
   ]
  },
  {
   "cell_type": "markdown",
   "id": "ffb4cb2b",
   "metadata": {},
   "source": [
    "# Importando os dados e aplicando o modelo"
   ]
  },
  {
   "cell_type": "code",
   "execution_count": 3,
   "id": "4d65657c",
   "metadata": {},
   "outputs": [],
   "source": [
    "tabela = pd.read_csv('desafio_manutencao_preditiva_teste.csv')\n",
    "tabela.drop(['product_id', 'type'],axis=1, inplace=True)\n",
    "previsao = RF_model.predict(tabela)"
   ]
  },
  {
   "cell_type": "code",
   "execution_count": 4,
   "id": "f1848278",
   "metadata": {},
   "outputs": [
    {
     "data": {
      "text/html": [
       "<div>\n",
       "<style scoped>\n",
       "    .dataframe tbody tr th:only-of-type {\n",
       "        vertical-align: middle;\n",
       "    }\n",
       "\n",
       "    .dataframe tbody tr th {\n",
       "        vertical-align: top;\n",
       "    }\n",
       "\n",
       "    .dataframe thead th {\n",
       "        text-align: right;\n",
       "    }\n",
       "</style>\n",
       "<table border=\"1\" class=\"dataframe\">\n",
       "  <thead>\n",
       "    <tr style=\"text-align: right;\">\n",
       "      <th></th>\n",
       "      <th>udi</th>\n",
       "      <th>air_temperature_k</th>\n",
       "      <th>process_temperature_k</th>\n",
       "      <th>rotational_speed_rpm</th>\n",
       "      <th>torque_nm</th>\n",
       "      <th>tool_wear_min</th>\n",
       "    </tr>\n",
       "  </thead>\n",
       "  <tbody>\n",
       "    <tr>\n",
       "      <th>0</th>\n",
       "      <td>446</td>\n",
       "      <td>297.5</td>\n",
       "      <td>308.6</td>\n",
       "      <td>1793</td>\n",
       "      <td>26.7</td>\n",
       "      <td>70</td>\n",
       "    </tr>\n",
       "    <tr>\n",
       "      <th>1</th>\n",
       "      <td>7076</td>\n",
       "      <td>300.7</td>\n",
       "      <td>310.5</td>\n",
       "      <td>1536</td>\n",
       "      <td>47.4</td>\n",
       "      <td>192</td>\n",
       "    </tr>\n",
       "    <tr>\n",
       "      <th>2</th>\n",
       "      <td>1191</td>\n",
       "      <td>297.2</td>\n",
       "      <td>308.4</td>\n",
       "      <td>1460</td>\n",
       "      <td>42.1</td>\n",
       "      <td>41</td>\n",
       "    </tr>\n",
       "    <tr>\n",
       "      <th>3</th>\n",
       "      <td>2618</td>\n",
       "      <td>299.4</td>\n",
       "      <td>309.1</td>\n",
       "      <td>1670</td>\n",
       "      <td>35.9</td>\n",
       "      <td>68</td>\n",
       "    </tr>\n",
       "    <tr>\n",
       "      <th>4</th>\n",
       "      <td>5067</td>\n",
       "      <td>304.1</td>\n",
       "      <td>313.1</td>\n",
       "      <td>1550</td>\n",
       "      <td>30.9</td>\n",
       "      <td>9</td>\n",
       "    </tr>\n",
       "  </tbody>\n",
       "</table>\n",
       "</div>"
      ],
      "text/plain": [
       "    udi  air_temperature_k  process_temperature_k  rotational_speed_rpm  \\\n",
       "0   446              297.5                  308.6                  1793   \n",
       "1  7076              300.7                  310.5                  1536   \n",
       "2  1191              297.2                  308.4                  1460   \n",
       "3  2618              299.4                  309.1                  1670   \n",
       "4  5067              304.1                  313.1                  1550   \n",
       "\n",
       "   torque_nm  tool_wear_min  \n",
       "0       26.7             70  \n",
       "1       47.4            192  \n",
       "2       42.1             41  \n",
       "3       35.9             68  \n",
       "4       30.9              9  "
      ]
     },
     "execution_count": 4,
     "metadata": {},
     "output_type": "execute_result"
    }
   ],
   "source": [
    "tabela.head()"
   ]
  },
  {
   "cell_type": "code",
   "execution_count": 5,
   "id": "acbb5109",
   "metadata": {},
   "outputs": [
    {
     "data": {
      "text/html": [
       "<div>\n",
       "<style scoped>\n",
       "    .dataframe tbody tr th:only-of-type {\n",
       "        vertical-align: middle;\n",
       "    }\n",
       "\n",
       "    .dataframe tbody tr th {\n",
       "        vertical-align: top;\n",
       "    }\n",
       "\n",
       "    .dataframe thead th {\n",
       "        text-align: right;\n",
       "    }\n",
       "</style>\n",
       "<table border=\"1\" class=\"dataframe\">\n",
       "  <thead>\n",
       "    <tr style=\"text-align: right;\">\n",
       "      <th></th>\n",
       "      <th>udi</th>\n",
       "      <th>air_temperature_k</th>\n",
       "      <th>process_temperature_k</th>\n",
       "      <th>rotational_speed_rpm</th>\n",
       "      <th>torque_nm</th>\n",
       "      <th>tool_wear_min</th>\n",
       "      <th>predictedValues_x</th>\n",
       "      <th>predictedValues_y</th>\n",
       "    </tr>\n",
       "  </thead>\n",
       "  <tbody>\n",
       "    <tr>\n",
       "      <th>0</th>\n",
       "      <td>446</td>\n",
       "      <td>297.5</td>\n",
       "      <td>308.6</td>\n",
       "      <td>1793</td>\n",
       "      <td>26.7</td>\n",
       "      <td>70</td>\n",
       "      <td>1</td>\n",
       "      <td>1</td>\n",
       "    </tr>\n",
       "    <tr>\n",
       "      <th>1</th>\n",
       "      <td>7076</td>\n",
       "      <td>300.7</td>\n",
       "      <td>310.5</td>\n",
       "      <td>1536</td>\n",
       "      <td>47.4</td>\n",
       "      <td>192</td>\n",
       "      <td>1</td>\n",
       "      <td>1</td>\n",
       "    </tr>\n",
       "    <tr>\n",
       "      <th>2</th>\n",
       "      <td>1191</td>\n",
       "      <td>297.2</td>\n",
       "      <td>308.4</td>\n",
       "      <td>1460</td>\n",
       "      <td>42.1</td>\n",
       "      <td>41</td>\n",
       "      <td>1</td>\n",
       "      <td>1</td>\n",
       "    </tr>\n",
       "    <tr>\n",
       "      <th>3</th>\n",
       "      <td>2618</td>\n",
       "      <td>299.4</td>\n",
       "      <td>309.1</td>\n",
       "      <td>1670</td>\n",
       "      <td>35.9</td>\n",
       "      <td>68</td>\n",
       "      <td>1</td>\n",
       "      <td>1</td>\n",
       "    </tr>\n",
       "    <tr>\n",
       "      <th>4</th>\n",
       "      <td>5067</td>\n",
       "      <td>304.1</td>\n",
       "      <td>313.1</td>\n",
       "      <td>1550</td>\n",
       "      <td>30.9</td>\n",
       "      <td>9</td>\n",
       "      <td>1</td>\n",
       "      <td>1</td>\n",
       "    </tr>\n",
       "    <tr>\n",
       "      <th>...</th>\n",
       "      <td>...</td>\n",
       "      <td>...</td>\n",
       "      <td>...</td>\n",
       "      <td>...</td>\n",
       "      <td>...</td>\n",
       "      <td>...</td>\n",
       "      <td>...</td>\n",
       "      <td>...</td>\n",
       "    </tr>\n",
       "    <tr>\n",
       "      <th>3328</th>\n",
       "      <td>5554</td>\n",
       "      <td>302.5</td>\n",
       "      <td>311.9</td>\n",
       "      <td>1306</td>\n",
       "      <td>59.7</td>\n",
       "      <td>172</td>\n",
       "      <td>1</td>\n",
       "      <td>1</td>\n",
       "    </tr>\n",
       "    <tr>\n",
       "      <th>3329</th>\n",
       "      <td>6961</td>\n",
       "      <td>300.7</td>\n",
       "      <td>311.0</td>\n",
       "      <td>1413</td>\n",
       "      <td>52.0</td>\n",
       "      <td>91</td>\n",
       "      <td>1</td>\n",
       "      <td>1</td>\n",
       "    </tr>\n",
       "    <tr>\n",
       "      <th>3330</th>\n",
       "      <td>6914</td>\n",
       "      <td>300.8</td>\n",
       "      <td>311.2</td>\n",
       "      <td>1481</td>\n",
       "      <td>38.5</td>\n",
       "      <td>181</td>\n",
       "      <td>1</td>\n",
       "      <td>1</td>\n",
       "    </tr>\n",
       "    <tr>\n",
       "      <th>3331</th>\n",
       "      <td>5510</td>\n",
       "      <td>302.8</td>\n",
       "      <td>312.2</td>\n",
       "      <td>1509</td>\n",
       "      <td>36.5</td>\n",
       "      <td>52</td>\n",
       "      <td>1</td>\n",
       "      <td>1</td>\n",
       "    </tr>\n",
       "    <tr>\n",
       "      <th>3332</th>\n",
       "      <td>3066</td>\n",
       "      <td>300.1</td>\n",
       "      <td>309.2</td>\n",
       "      <td>1687</td>\n",
       "      <td>27.7</td>\n",
       "      <td>95</td>\n",
       "      <td>1</td>\n",
       "      <td>1</td>\n",
       "    </tr>\n",
       "  </tbody>\n",
       "</table>\n",
       "<p>3333 rows × 8 columns</p>\n",
       "</div>"
      ],
      "text/plain": [
       "       udi  air_temperature_k  process_temperature_k  rotational_speed_rpm  \\\n",
       "0      446              297.5                  308.6                  1793   \n",
       "1     7076              300.7                  310.5                  1536   \n",
       "2     1191              297.2                  308.4                  1460   \n",
       "3     2618              299.4                  309.1                  1670   \n",
       "4     5067              304.1                  313.1                  1550   \n",
       "...    ...                ...                    ...                   ...   \n",
       "3328  5554              302.5                  311.9                  1306   \n",
       "3329  6961              300.7                  311.0                  1413   \n",
       "3330  6914              300.8                  311.2                  1481   \n",
       "3331  5510              302.8                  312.2                  1509   \n",
       "3332  3066              300.1                  309.2                  1687   \n",
       "\n",
       "      torque_nm  tool_wear_min  predictedValues_x  predictedValues_y  \n",
       "0          26.7             70                  1                  1  \n",
       "1          47.4            192                  1                  1  \n",
       "2          42.1             41                  1                  1  \n",
       "3          35.9             68                  1                  1  \n",
       "4          30.9              9                  1                  1  \n",
       "...         ...            ...                ...                ...  \n",
       "3328       59.7            172                  1                  1  \n",
       "3329       52.0             91                  1                  1  \n",
       "3330       38.5            181                  1                  1  \n",
       "3331       36.5             52                  1                  1  \n",
       "3332       27.7             95                  1                  1  \n",
       "\n",
       "[3333 rows x 8 columns]"
      ]
     },
     "execution_count": 5,
     "metadata": {},
     "output_type": "execute_result"
    }
   ],
   "source": [
    "tabela['predictedValues'] = previsao\n",
    "tabela\n",
    "\n",
    "df_out = pd.merge(tabela,tabela[['predictedValues']],how = 'left',left_index = True, right_index = True)\n",
    "df_out"
   ]
  },
  {
   "cell_type": "code",
   "execution_count": 6,
   "id": "be2be1da",
   "metadata": {},
   "outputs": [],
   "source": [
    "df_out['predictedValues'] = df_out['predictedValues_y']\n",
    "df_out['predictedValues'] = df_out['predictedValues'].replace(1, 'Sem falha')\n",
    "df_out['predictedValues'] = df_out['predictedValues'].replace(0, 'Falhou')\n",
    "df_out.drop(['udi','air_temperature_k','process_temperature_k','rotational_speed_rpm','torque_nm','tool_wear_min','predictedValues_x', 'predictedValues_y'],axis=1, inplace=True)"
   ]
  },
  {
   "cell_type": "markdown",
   "id": "dc3ef4ec",
   "metadata": {},
   "source": [
    "Acima, para um melhor entendimento, eu transforma as informações dos resultados que constam apenas em 0 e 1 para Sem falha e Falha. Além disso removo as colunas para gerar o arquivo final, conforme solicitado no desafio."
   ]
  },
  {
   "cell_type": "code",
   "execution_count": 7,
   "id": "b9d1ca79",
   "metadata": {},
   "outputs": [
    {
     "data": {
      "text/plain": [
       "predictedValues\n",
       "Sem falha          3333\n",
       "dtype: int64"
      ]
     },
     "execution_count": 7,
     "metadata": {},
     "output_type": "execute_result"
    }
   ],
   "source": [
    "df_out.value_counts()"
   ]
  },
  {
   "cell_type": "code",
   "execution_count": 8,
   "id": "561b5956",
   "metadata": {},
   "outputs": [
    {
     "data": {
      "text/plain": [
       "0.0"
      ]
     },
     "execution_count": 8,
     "metadata": {},
     "output_type": "execute_result"
    }
   ],
   "source": [
    "df_out[df_out['predictedValues']=='Falhou'].value_counts().sum() / df_out[df_out['predictedValues']=='Sem falha'].value_counts().sum() * 100"
   ]
  },
  {
   "cell_type": "markdown",
   "id": "4827edb3",
   "metadata": {},
   "source": [
    "Dos dados testados, apenas 1,15% das máquinas apresentam potencial de falha."
   ]
  },
  {
   "cell_type": "markdown",
   "id": "ec6db716",
   "metadata": {},
   "source": [
    "# Exportando o tabela com o resultado dos testes"
   ]
  },
  {
   "cell_type": "code",
   "execution_count": 9,
   "id": "8b9392de",
   "metadata": {},
   "outputs": [],
   "source": [
    "df_out.to_csv ('predicted.csv', index=True)"
   ]
  }
 ],
 "metadata": {
  "kernelspec": {
   "display_name": "Python 3 (ipykernel)",
   "language": "python",
   "name": "python3"
  },
  "language_info": {
   "codemirror_mode": {
    "name": "ipython",
    "version": 3
   },
   "file_extension": ".py",
   "mimetype": "text/x-python",
   "name": "python",
   "nbconvert_exporter": "python",
   "pygments_lexer": "ipython3",
   "version": "3.9.7"
  }
 },
 "nbformat": 4,
 "nbformat_minor": 5
}
