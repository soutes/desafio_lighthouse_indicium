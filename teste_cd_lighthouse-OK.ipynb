{
 "cells": [
  {
   "cell_type": "code",
   "execution_count": 1,
   "id": "55d844b6",
   "metadata": {},
   "outputs": [],
   "source": [
    "#bibliotecas para cálculos e estruturas\n",
    "import numpy as np\n",
    "import pandas as pd\n",
    "#bibliotecas para visualização dos dados\n",
    "import matplotlib.pyplot as plt\n",
    "%matplotlib inline\n",
    "import seaborn as sns\n",
    "#bibliotecas para tratamento dos dados\n",
    "from sklearn import preprocessing\n",
    "from sklearn.compose import make_column_transformer\n",
    "from sklearn.preprocessing import StandardScaler, MinMaxScaler\n",
    "from sklearn.model_selection import train_test_split\n",
    "from sklearn.metrics import accuracy_score\n",
    "#modelos testado e utilizado\n",
    "from sklearn.ensemble import RandomForestClassifier\n",
    "from xgboost import XGBClassifier\n",
    "#biblioteca para ignorar os possíveis alertas\n",
    "import warnings\n",
    "warnings.filterwarnings('ignore') "
   ]
  },
  {
   "cell_type": "markdown",
   "id": "ee19b044",
   "metadata": {},
   "source": [
    "# Carregando e analisando os dados do DF"
   ]
  },
  {
   "cell_type": "code",
   "execution_count": 2,
   "id": "dd19110b",
   "metadata": {},
   "outputs": [
    {
     "data": {
      "text/html": [
       "<div>\n",
       "<style scoped>\n",
       "    .dataframe tbody tr th:only-of-type {\n",
       "        vertical-align: middle;\n",
       "    }\n",
       "\n",
       "    .dataframe tbody tr th {\n",
       "        vertical-align: top;\n",
       "    }\n",
       "\n",
       "    .dataframe thead th {\n",
       "        text-align: right;\n",
       "    }\n",
       "</style>\n",
       "<table border=\"1\" class=\"dataframe\">\n",
       "  <thead>\n",
       "    <tr style=\"text-align: right;\">\n",
       "      <th></th>\n",
       "      <th>udi</th>\n",
       "      <th>product_id</th>\n",
       "      <th>type</th>\n",
       "      <th>air_temperature_k</th>\n",
       "      <th>process_temperature_k</th>\n",
       "      <th>rotational_speed_rpm</th>\n",
       "      <th>torque_nm</th>\n",
       "      <th>tool_wear_min</th>\n",
       "      <th>failure_type</th>\n",
       "    </tr>\n",
       "  </thead>\n",
       "  <tbody>\n",
       "    <tr>\n",
       "      <th>0</th>\n",
       "      <td>1</td>\n",
       "      <td>M14860</td>\n",
       "      <td>M</td>\n",
       "      <td>298.1</td>\n",
       "      <td>308.6</td>\n",
       "      <td>1551</td>\n",
       "      <td>42.8</td>\n",
       "      <td>0</td>\n",
       "      <td>No Failure</td>\n",
       "    </tr>\n",
       "    <tr>\n",
       "      <th>1</th>\n",
       "      <td>2</td>\n",
       "      <td>L47181</td>\n",
       "      <td>L</td>\n",
       "      <td>298.2</td>\n",
       "      <td>308.7</td>\n",
       "      <td>1408</td>\n",
       "      <td>46.3</td>\n",
       "      <td>3</td>\n",
       "      <td>No Failure</td>\n",
       "    </tr>\n",
       "    <tr>\n",
       "      <th>2</th>\n",
       "      <td>5</td>\n",
       "      <td>L47184</td>\n",
       "      <td>L</td>\n",
       "      <td>298.2</td>\n",
       "      <td>308.7</td>\n",
       "      <td>1408</td>\n",
       "      <td>40.0</td>\n",
       "      <td>9</td>\n",
       "      <td>No Failure</td>\n",
       "    </tr>\n",
       "    <tr>\n",
       "      <th>3</th>\n",
       "      <td>6</td>\n",
       "      <td>M14865</td>\n",
       "      <td>M</td>\n",
       "      <td>298.1</td>\n",
       "      <td>308.6</td>\n",
       "      <td>1425</td>\n",
       "      <td>41.9</td>\n",
       "      <td>11</td>\n",
       "      <td>No Failure</td>\n",
       "    </tr>\n",
       "    <tr>\n",
       "      <th>4</th>\n",
       "      <td>7</td>\n",
       "      <td>L47186</td>\n",
       "      <td>L</td>\n",
       "      <td>298.1</td>\n",
       "      <td>308.6</td>\n",
       "      <td>1558</td>\n",
       "      <td>42.4</td>\n",
       "      <td>14</td>\n",
       "      <td>No Failure</td>\n",
       "    </tr>\n",
       "  </tbody>\n",
       "</table>\n",
       "</div>"
      ],
      "text/plain": [
       "   udi product_id type  air_temperature_k  process_temperature_k  \\\n",
       "0    1     M14860    M              298.1                  308.6   \n",
       "1    2     L47181    L              298.2                  308.7   \n",
       "2    5     L47184    L              298.2                  308.7   \n",
       "3    6     M14865    M              298.1                  308.6   \n",
       "4    7     L47186    L              298.1                  308.6   \n",
       "\n",
       "   rotational_speed_rpm  torque_nm  tool_wear_min failure_type  \n",
       "0                  1551       42.8              0   No Failure  \n",
       "1                  1408       46.3              3   No Failure  \n",
       "2                  1408       40.0              9   No Failure  \n",
       "3                  1425       41.9             11   No Failure  \n",
       "4                  1558       42.4             14   No Failure  "
      ]
     },
     "execution_count": 2,
     "metadata": {},
     "output_type": "execute_result"
    }
   ],
   "source": [
    "df = pd.read_csv(\"desafio_manutencao_preditiva_treino.csv\")\n",
    "df.head()"
   ]
  },
  {
   "cell_type": "code",
   "execution_count": 3,
   "id": "5325dd8d",
   "metadata": {},
   "outputs": [
    {
     "name": "stdout",
     "output_type": "stream",
     "text": [
      "<class 'pandas.core.frame.DataFrame'>\n",
      "RangeIndex: 6667 entries, 0 to 6666\n",
      "Data columns (total 9 columns):\n",
      " #   Column                 Non-Null Count  Dtype  \n",
      "---  ------                 --------------  -----  \n",
      " 0   udi                    6667 non-null   int64  \n",
      " 1   product_id             6667 non-null   object \n",
      " 2   type                   6667 non-null   object \n",
      " 3   air_temperature_k      6667 non-null   float64\n",
      " 4   process_temperature_k  6667 non-null   float64\n",
      " 5   rotational_speed_rpm   6667 non-null   int64  \n",
      " 6   torque_nm              6667 non-null   float64\n",
      " 7   tool_wear_min          6667 non-null   int64  \n",
      " 8   failure_type           6667 non-null   object \n",
      "dtypes: float64(3), int64(3), object(3)\n",
      "memory usage: 468.9+ KB\n"
     ]
    }
   ],
   "source": [
    "df.info()"
   ]
  },
  {
   "cell_type": "markdown",
   "id": "6402ac3c",
   "metadata": {},
   "source": [
    "Podemos observar que o DF possui 6667 linhas, divididos em 9 colunas."
   ]
  },
  {
   "cell_type": "code",
   "execution_count": 4,
   "id": "aca360f6",
   "metadata": {},
   "outputs": [
    {
     "data": {
      "text/plain": [
       "udi                      0\n",
       "product_id               0\n",
       "type                     0\n",
       "air_temperature_k        0\n",
       "process_temperature_k    0\n",
       "rotational_speed_rpm     0\n",
       "torque_nm                0\n",
       "tool_wear_min            0\n",
       "failure_type             0\n",
       "dtype: int64"
      ]
     },
     "execution_count": 4,
     "metadata": {},
     "output_type": "execute_result"
    }
   ],
   "source": [
    "df.isnull().sum()"
   ]
  },
  {
   "cell_type": "markdown",
   "id": "b6cd26c3",
   "metadata": {},
   "source": [
    "Não existem NaN no df"
   ]
  },
  {
   "cell_type": "code",
   "execution_count": 5,
   "id": "32d79b24",
   "metadata": {},
   "outputs": [
    {
     "data": {
      "text/plain": [
       "6667"
      ]
     },
     "execution_count": 5,
     "metadata": {},
     "output_type": "execute_result"
    }
   ],
   "source": [
    "df['udi'].nunique()\n",
    "df['product_id'].nunique()"
   ]
  },
  {
   "cell_type": "code",
   "execution_count": 6,
   "id": "cdf9a540",
   "metadata": {},
   "outputs": [
    {
     "data": {
      "image/png": "[encoded data removed]",
      "text/plain": [
       "<Figure size 576x576 with 2 Axes>"
      ]
     },
     "metadata": {
      "needs_background": "light"
     },
     "output_type": "display_data"
    }
   ],
   "source": [
    "plt.figure(figsize=(8,8))\n",
    "sns.heatmap(df.corr(), annot=True, linewidths=0.5, linecolor='black', cmap='Blues')\n",
    "plt.xticks(rotation=90)\n",
    "plt.show()"
   ]
  },
  {
   "cell_type": "markdown",
   "id": "4b8bd889",
   "metadata": {},
   "source": [
    "Através do mapa de calor, podemos perceber uma pequena correlação dos dados entre air_temperature e process_temperature, mas não é algo que necessite de atenção.\n",
    "Porém como temos duas informações idênticas, que parecem ser índices, vou remover estas colunas para ficarmos apenas com os dados de cada equipamento."
   ]
  },
  {
   "cell_type": "code",
   "execution_count": 7,
   "id": "ca985825",
   "metadata": {},
   "outputs": [],
   "source": [
    "df.drop(['udi','product_id'],axis=1, inplace=True)"
   ]
  },
  {
   "cell_type": "code",
   "execution_count": 8,
   "id": "c082aeb7",
   "metadata": {},
   "outputs": [
    {
     "data": {
      "text/html": [
       "<div>\n",
       "<style scoped>\n",
       "    .dataframe tbody tr th:only-of-type {\n",
       "        vertical-align: middle;\n",
       "    }\n",
       "\n",
       "    .dataframe tbody tr th {\n",
       "        vertical-align: top;\n",
       "    }\n",
       "\n",
       "    .dataframe thead th {\n",
       "        text-align: right;\n",
       "    }\n",
       "</style>\n",
       "<table border=\"1\" class=\"dataframe\">\n",
       "  <thead>\n",
       "    <tr style=\"text-align: right;\">\n",
       "      <th></th>\n",
       "      <th>air_temperature_k</th>\n",
       "      <th>process_temperature_k</th>\n",
       "      <th>rotational_speed_rpm</th>\n",
       "      <th>torque_nm</th>\n",
       "      <th>tool_wear_min</th>\n",
       "    </tr>\n",
       "  </thead>\n",
       "  <tbody>\n",
       "    <tr>\n",
       "      <th>count</th>\n",
       "      <td>6667.000000</td>\n",
       "      <td>6667.000000</td>\n",
       "      <td>6667.000000</td>\n",
       "      <td>6667.000000</td>\n",
       "      <td>6667.000000</td>\n",
       "    </tr>\n",
       "    <tr>\n",
       "      <th>mean</th>\n",
       "      <td>299.992515</td>\n",
       "      <td>309.992620</td>\n",
       "      <td>1537.419529</td>\n",
       "      <td>40.058512</td>\n",
       "      <td>108.098095</td>\n",
       "    </tr>\n",
       "    <tr>\n",
       "      <th>std</th>\n",
       "      <td>1.994710</td>\n",
       "      <td>1.488101</td>\n",
       "      <td>177.182908</td>\n",
       "      <td>9.950804</td>\n",
       "      <td>63.359915</td>\n",
       "    </tr>\n",
       "    <tr>\n",
       "      <th>min</th>\n",
       "      <td>295.300000</td>\n",
       "      <td>305.700000</td>\n",
       "      <td>1168.000000</td>\n",
       "      <td>3.800000</td>\n",
       "      <td>0.000000</td>\n",
       "    </tr>\n",
       "    <tr>\n",
       "      <th>25%</th>\n",
       "      <td>298.300000</td>\n",
       "      <td>308.800000</td>\n",
       "      <td>1422.500000</td>\n",
       "      <td>33.200000</td>\n",
       "      <td>54.000000</td>\n",
       "    </tr>\n",
       "    <tr>\n",
       "      <th>50%</th>\n",
       "      <td>300.000000</td>\n",
       "      <td>310.000000</td>\n",
       "      <td>1503.000000</td>\n",
       "      <td>40.200000</td>\n",
       "      <td>108.000000</td>\n",
       "    </tr>\n",
       "    <tr>\n",
       "      <th>75%</th>\n",
       "      <td>301.500000</td>\n",
       "      <td>311.100000</td>\n",
       "      <td>1612.000000</td>\n",
       "      <td>46.800000</td>\n",
       "      <td>162.000000</td>\n",
       "    </tr>\n",
       "    <tr>\n",
       "      <th>max</th>\n",
       "      <td>304.500000</td>\n",
       "      <td>313.800000</td>\n",
       "      <td>2886.000000</td>\n",
       "      <td>76.600000</td>\n",
       "      <td>251.000000</td>\n",
       "    </tr>\n",
       "  </tbody>\n",
       "</table>\n",
       "</div>"
      ],
      "text/plain": [
       "       air_temperature_k  process_temperature_k  rotational_speed_rpm  \\\n",
       "count        6667.000000            6667.000000           6667.000000   \n",
       "mean          299.992515             309.992620           1537.419529   \n",
       "std             1.994710               1.488101            177.182908   \n",
       "min           295.300000             305.700000           1168.000000   \n",
       "25%           298.300000             308.800000           1422.500000   \n",
       "50%           300.000000             310.000000           1503.000000   \n",
       "75%           301.500000             311.100000           1612.000000   \n",
       "max           304.500000             313.800000           2886.000000   \n",
       "\n",
       "         torque_nm  tool_wear_min  \n",
       "count  6667.000000    6667.000000  \n",
       "mean     40.058512     108.098095  \n",
       "std       9.950804      63.359915  \n",
       "min       3.800000       0.000000  \n",
       "25%      33.200000      54.000000  \n",
       "50%      40.200000     108.000000  \n",
       "75%      46.800000     162.000000  \n",
       "max      76.600000     251.000000  "
      ]
     },
     "execution_count": 8,
     "metadata": {},
     "output_type": "execute_result"
    }
   ],
   "source": [
    "df.describe()"
   ]
  },
  {
   "cell_type": "markdown",
   "id": "07cd00d9",
   "metadata": {},
   "source": [
    "Como podemos ver no describe acima, as colunas foram removidas com sucesso."
   ]
  },
  {
   "cell_type": "markdown",
   "id": "894f60ea",
   "metadata": {},
   "source": [
    "# Analisando e tratando as colunas failure_type e type para categóricas"
   ]
  },
  {
   "cell_type": "code",
   "execution_count": 9,
   "id": "80c6b359",
   "metadata": {},
   "outputs": [
    {
     "data": {
      "text/plain": [
       "L    4022\n",
       "M    1987\n",
       "H     658\n",
       "Name: type, dtype: int64"
      ]
     },
     "execution_count": 9,
     "metadata": {},
     "output_type": "execute_result"
    }
   ],
   "source": [
    "df.type.value_counts()"
   ]
  },
  {
   "cell_type": "markdown",
   "id": "91386b1d",
   "metadata": {},
   "source": [
    "Na coluna Type constam dados dividos em 3 informações: L, M e H. Abaixo faço alguns procedimentos em relação a coluna das falhas para um melhor entendido destes dados."
   ]
  },
  {
   "cell_type": "code",
   "execution_count": 10,
   "id": "f18072c2",
   "metadata": {},
   "outputs": [
    {
     "data": {
      "text/plain": [
       "No Failure                  3861\n",
       "Overstrain Failure            50\n",
       "Heat Dissipation Failure      46\n",
       "Power Failure                 39\n",
       "Tool Wear Failure             19\n",
       "Random Failures                7\n",
       "Name: failure_type, dtype: int64"
      ]
     },
     "execution_count": 10,
     "metadata": {},
     "output_type": "execute_result"
    }
   ],
   "source": [
    "df[df['type']=='L']['failure_type'].value_counts()"
   ]
  },
  {
   "cell_type": "code",
   "execution_count": 11,
   "id": "cbe489f2",
   "metadata": {},
   "outputs": [
    {
     "data": {
      "text/plain": [
       "No Failure                  1933\n",
       "Heat Dissipation Failure      22\n",
       "Power Failure                 20\n",
       "Tool Wear Failure             10\n",
       "Random Failures                1\n",
       "Overstrain Failure             1\n",
       "Name: failure_type, dtype: int64"
      ]
     },
     "execution_count": 11,
     "metadata": {},
     "output_type": "execute_result"
    }
   ],
   "source": [
    "df[df['type']=='M']['failure_type'].value_counts()"
   ]
  },
  {
   "cell_type": "code",
   "execution_count": 12,
   "id": "c11d6746",
   "metadata": {},
   "outputs": [
    {
     "data": {
      "text/plain": [
       "No Failure                  641\n",
       "Heat Dissipation Failure      7\n",
       "Power Failure                 4\n",
       "Random Failures               4\n",
       "Overstrain Failure            1\n",
       "Tool Wear Failure             1\n",
       "Name: failure_type, dtype: int64"
      ]
     },
     "execution_count": 12,
     "metadata": {},
     "output_type": "execute_result"
    }
   ],
   "source": [
    "df[df['type']=='H']['failure_type'].value_counts()"
   ]
  },
  {
   "cell_type": "markdown",
   "id": "fcf0b172",
   "metadata": {},
   "source": [
    "Para converter os dados que estão como string para categóricos, utilizarei o LabelEncoder:"
   ]
  },
  {
   "cell_type": "code",
   "execution_count": 13,
   "id": "8d00a912",
   "metadata": {},
   "outputs": [
    {
     "data": {
      "text/html": [
       "<div>\n",
       "<style scoped>\n",
       "    .dataframe tbody tr th:only-of-type {\n",
       "        vertical-align: middle;\n",
       "    }\n",
       "\n",
       "    .dataframe tbody tr th {\n",
       "        vertical-align: top;\n",
       "    }\n",
       "\n",
       "    .dataframe thead th {\n",
       "        text-align: right;\n",
       "    }\n",
       "</style>\n",
       "<table border=\"1\" class=\"dataframe\">\n",
       "  <thead>\n",
       "    <tr style=\"text-align: right;\">\n",
       "      <th></th>\n",
       "      <th>type</th>\n",
       "      <th>air_temperature_k</th>\n",
       "      <th>process_temperature_k</th>\n",
       "      <th>rotational_speed_rpm</th>\n",
       "      <th>torque_nm</th>\n",
       "      <th>tool_wear_min</th>\n",
       "      <th>failure_type</th>\n",
       "    </tr>\n",
       "  </thead>\n",
       "  <tbody>\n",
       "    <tr>\n",
       "      <th>0</th>\n",
       "      <td>2</td>\n",
       "      <td>298.1</td>\n",
       "      <td>308.6</td>\n",
       "      <td>1551</td>\n",
       "      <td>42.8</td>\n",
       "      <td>0</td>\n",
       "      <td>No Failure</td>\n",
       "    </tr>\n",
       "    <tr>\n",
       "      <th>1</th>\n",
       "      <td>1</td>\n",
       "      <td>298.2</td>\n",
       "      <td>308.7</td>\n",
       "      <td>1408</td>\n",
       "      <td>46.3</td>\n",
       "      <td>3</td>\n",
       "      <td>No Failure</td>\n",
       "    </tr>\n",
       "    <tr>\n",
       "      <th>2</th>\n",
       "      <td>1</td>\n",
       "      <td>298.2</td>\n",
       "      <td>308.7</td>\n",
       "      <td>1408</td>\n",
       "      <td>40.0</td>\n",
       "      <td>9</td>\n",
       "      <td>No Failure</td>\n",
       "    </tr>\n",
       "    <tr>\n",
       "      <th>3</th>\n",
       "      <td>2</td>\n",
       "      <td>298.1</td>\n",
       "      <td>308.6</td>\n",
       "      <td>1425</td>\n",
       "      <td>41.9</td>\n",
       "      <td>11</td>\n",
       "      <td>No Failure</td>\n",
       "    </tr>\n",
       "    <tr>\n",
       "      <th>4</th>\n",
       "      <td>1</td>\n",
       "      <td>298.1</td>\n",
       "      <td>308.6</td>\n",
       "      <td>1558</td>\n",
       "      <td>42.4</td>\n",
       "      <td>14</td>\n",
       "      <td>No Failure</td>\n",
       "    </tr>\n",
       "    <tr>\n",
       "      <th>...</th>\n",
       "      <td>...</td>\n",
       "      <td>...</td>\n",
       "      <td>...</td>\n",
       "      <td>...</td>\n",
       "      <td>...</td>\n",
       "      <td>...</td>\n",
       "      <td>...</td>\n",
       "    </tr>\n",
       "    <tr>\n",
       "      <th>6662</th>\n",
       "      <td>1</td>\n",
       "      <td>298.8</td>\n",
       "      <td>308.3</td>\n",
       "      <td>1634</td>\n",
       "      <td>27.9</td>\n",
       "      <td>12</td>\n",
       "      <td>No Failure</td>\n",
       "    </tr>\n",
       "    <tr>\n",
       "      <th>6663</th>\n",
       "      <td>2</td>\n",
       "      <td>298.8</td>\n",
       "      <td>308.4</td>\n",
       "      <td>1604</td>\n",
       "      <td>29.5</td>\n",
       "      <td>14</td>\n",
       "      <td>No Failure</td>\n",
       "    </tr>\n",
       "    <tr>\n",
       "      <th>6664</th>\n",
       "      <td>0</td>\n",
       "      <td>298.9</td>\n",
       "      <td>308.4</td>\n",
       "      <td>1632</td>\n",
       "      <td>31.8</td>\n",
       "      <td>17</td>\n",
       "      <td>No Failure</td>\n",
       "    </tr>\n",
       "    <tr>\n",
       "      <th>6665</th>\n",
       "      <td>0</td>\n",
       "      <td>299.0</td>\n",
       "      <td>308.7</td>\n",
       "      <td>1408</td>\n",
       "      <td>48.5</td>\n",
       "      <td>25</td>\n",
       "      <td>No Failure</td>\n",
       "    </tr>\n",
       "    <tr>\n",
       "      <th>6666</th>\n",
       "      <td>2</td>\n",
       "      <td>299.0</td>\n",
       "      <td>308.7</td>\n",
       "      <td>1500</td>\n",
       "      <td>40.2</td>\n",
       "      <td>30</td>\n",
       "      <td>No Failure</td>\n",
       "    </tr>\n",
       "  </tbody>\n",
       "</table>\n",
       "<p>6667 rows × 7 columns</p>\n",
       "</div>"
      ],
      "text/plain": [
       "      type  air_temperature_k  process_temperature_k  rotational_speed_rpm  \\\n",
       "0        2              298.1                  308.6                  1551   \n",
       "1        1              298.2                  308.7                  1408   \n",
       "2        1              298.2                  308.7                  1408   \n",
       "3        2              298.1                  308.6                  1425   \n",
       "4        1              298.1                  308.6                  1558   \n",
       "...    ...                ...                    ...                   ...   \n",
       "6662     1              298.8                  308.3                  1634   \n",
       "6663     2              298.8                  308.4                  1604   \n",
       "6664     0              298.9                  308.4                  1632   \n",
       "6665     0              299.0                  308.7                  1408   \n",
       "6666     2              299.0                  308.7                  1500   \n",
       "\n",
       "      torque_nm  tool_wear_min failure_type  \n",
       "0          42.8              0   No Failure  \n",
       "1          46.3              3   No Failure  \n",
       "2          40.0              9   No Failure  \n",
       "3          41.9             11   No Failure  \n",
       "4          42.4             14   No Failure  \n",
       "...         ...            ...          ...  \n",
       "6662       27.9             12   No Failure  \n",
       "6663       29.5             14   No Failure  \n",
       "6664       31.8             17   No Failure  \n",
       "6665       48.5             25   No Failure  \n",
       "6666       40.2             30   No Failure  \n",
       "\n",
       "[6667 rows x 7 columns]"
      ]
     },
     "execution_count": 13,
     "metadata": {},
     "output_type": "execute_result"
    }
   ],
   "source": [
    "le = preprocessing.LabelEncoder()\n",
    "\n",
    "df['type']=le.fit_transform(df['type'])\n",
    "df"
   ]
  },
  {
   "cell_type": "code",
   "execution_count": 14,
   "id": "e6892b29",
   "metadata": {},
   "outputs": [
    {
     "data": {
      "text/plain": [
       "1    4022\n",
       "2    1987\n",
       "0     658\n",
       "Name: type, dtype: int64"
      ]
     },
     "execution_count": 14,
     "metadata": {},
     "output_type": "execute_result"
    }
   ],
   "source": [
    "df.type.value_counts()"
   ]
  },
  {
   "cell_type": "code",
   "execution_count": 15,
   "id": "b6859960",
   "metadata": {},
   "outputs": [
    {
     "data": {
      "text/plain": [
       "6667"
      ]
     },
     "execution_count": 15,
     "metadata": {},
     "output_type": "execute_result"
    }
   ],
   "source": [
    "df['failure_type'].value_counts().sum()"
   ]
  },
  {
   "cell_type": "markdown",
   "id": "683728dc",
   "metadata": {},
   "source": [
    "Feito o tratamento desta coluna e certificado q todos os dados constam no DF, sigo agora para o mesmo processo porém na coluna failure_type"
   ]
  },
  {
   "cell_type": "code",
   "execution_count": 16,
   "id": "86784670",
   "metadata": {},
   "outputs": [
    {
     "data": {
      "text/html": [
       "<div>\n",
       "<style scoped>\n",
       "    .dataframe tbody tr th:only-of-type {\n",
       "        vertical-align: middle;\n",
       "    }\n",
       "\n",
       "    .dataframe tbody tr th {\n",
       "        vertical-align: top;\n",
       "    }\n",
       "\n",
       "    .dataframe thead th {\n",
       "        text-align: right;\n",
       "    }\n",
       "</style>\n",
       "<table border=\"1\" class=\"dataframe\">\n",
       "  <thead>\n",
       "    <tr style=\"text-align: right;\">\n",
       "      <th></th>\n",
       "      <th>type</th>\n",
       "      <th>air_temperature_k</th>\n",
       "      <th>process_temperature_k</th>\n",
       "      <th>rotational_speed_rpm</th>\n",
       "      <th>torque_nm</th>\n",
       "      <th>tool_wear_min</th>\n",
       "      <th>failure_type</th>\n",
       "    </tr>\n",
       "  </thead>\n",
       "  <tbody>\n",
       "    <tr>\n",
       "      <th>0</th>\n",
       "      <td>2</td>\n",
       "      <td>298.1</td>\n",
       "      <td>308.6</td>\n",
       "      <td>1551</td>\n",
       "      <td>42.8</td>\n",
       "      <td>0</td>\n",
       "      <td>1</td>\n",
       "    </tr>\n",
       "    <tr>\n",
       "      <th>1</th>\n",
       "      <td>1</td>\n",
       "      <td>298.2</td>\n",
       "      <td>308.7</td>\n",
       "      <td>1408</td>\n",
       "      <td>46.3</td>\n",
       "      <td>3</td>\n",
       "      <td>1</td>\n",
       "    </tr>\n",
       "    <tr>\n",
       "      <th>2</th>\n",
       "      <td>1</td>\n",
       "      <td>298.2</td>\n",
       "      <td>308.7</td>\n",
       "      <td>1408</td>\n",
       "      <td>40.0</td>\n",
       "      <td>9</td>\n",
       "      <td>1</td>\n",
       "    </tr>\n",
       "    <tr>\n",
       "      <th>3</th>\n",
       "      <td>2</td>\n",
       "      <td>298.1</td>\n",
       "      <td>308.6</td>\n",
       "      <td>1425</td>\n",
       "      <td>41.9</td>\n",
       "      <td>11</td>\n",
       "      <td>1</td>\n",
       "    </tr>\n",
       "    <tr>\n",
       "      <th>4</th>\n",
       "      <td>1</td>\n",
       "      <td>298.1</td>\n",
       "      <td>308.6</td>\n",
       "      <td>1558</td>\n",
       "      <td>42.4</td>\n",
       "      <td>14</td>\n",
       "      <td>1</td>\n",
       "    </tr>\n",
       "    <tr>\n",
       "      <th>...</th>\n",
       "      <td>...</td>\n",
       "      <td>...</td>\n",
       "      <td>...</td>\n",
       "      <td>...</td>\n",
       "      <td>...</td>\n",
       "      <td>...</td>\n",
       "      <td>...</td>\n",
       "    </tr>\n",
       "    <tr>\n",
       "      <th>6662</th>\n",
       "      <td>1</td>\n",
       "      <td>298.8</td>\n",
       "      <td>308.3</td>\n",
       "      <td>1634</td>\n",
       "      <td>27.9</td>\n",
       "      <td>12</td>\n",
       "      <td>1</td>\n",
       "    </tr>\n",
       "    <tr>\n",
       "      <th>6663</th>\n",
       "      <td>2</td>\n",
       "      <td>298.8</td>\n",
       "      <td>308.4</td>\n",
       "      <td>1604</td>\n",
       "      <td>29.5</td>\n",
       "      <td>14</td>\n",
       "      <td>1</td>\n",
       "    </tr>\n",
       "    <tr>\n",
       "      <th>6664</th>\n",
       "      <td>0</td>\n",
       "      <td>298.9</td>\n",
       "      <td>308.4</td>\n",
       "      <td>1632</td>\n",
       "      <td>31.8</td>\n",
       "      <td>17</td>\n",
       "      <td>1</td>\n",
       "    </tr>\n",
       "    <tr>\n",
       "      <th>6665</th>\n",
       "      <td>0</td>\n",
       "      <td>299.0</td>\n",
       "      <td>308.7</td>\n",
       "      <td>1408</td>\n",
       "      <td>48.5</td>\n",
       "      <td>25</td>\n",
       "      <td>1</td>\n",
       "    </tr>\n",
       "    <tr>\n",
       "      <th>6666</th>\n",
       "      <td>2</td>\n",
       "      <td>299.0</td>\n",
       "      <td>308.7</td>\n",
       "      <td>1500</td>\n",
       "      <td>40.2</td>\n",
       "      <td>30</td>\n",
       "      <td>1</td>\n",
       "    </tr>\n",
       "  </tbody>\n",
       "</table>\n",
       "<p>6667 rows × 7 columns</p>\n",
       "</div>"
      ],
      "text/plain": [
       "      type  air_temperature_k  process_temperature_k  rotational_speed_rpm  \\\n",
       "0        2              298.1                  308.6                  1551   \n",
       "1        1              298.2                  308.7                  1408   \n",
       "2        1              298.2                  308.7                  1408   \n",
       "3        2              298.1                  308.6                  1425   \n",
       "4        1              298.1                  308.6                  1558   \n",
       "...    ...                ...                    ...                   ...   \n",
       "6662     1              298.8                  308.3                  1634   \n",
       "6663     2              298.8                  308.4                  1604   \n",
       "6664     0              298.9                  308.4                  1632   \n",
       "6665     0              299.0                  308.7                  1408   \n",
       "6666     2              299.0                  308.7                  1500   \n",
       "\n",
       "      torque_nm  tool_wear_min  failure_type  \n",
       "0          42.8              0             1  \n",
       "1          46.3              3             1  \n",
       "2          40.0              9             1  \n",
       "3          41.9             11             1  \n",
       "4          42.4             14             1  \n",
       "...         ...            ...           ...  \n",
       "6662       27.9             12             1  \n",
       "6663       29.5             14             1  \n",
       "6664       31.8             17             1  \n",
       "6665       48.5             25             1  \n",
       "6666       40.2             30             1  \n",
       "\n",
       "[6667 rows x 7 columns]"
      ]
     },
     "execution_count": 16,
     "metadata": {},
     "output_type": "execute_result"
    }
   ],
   "source": [
    "# Categóricos\n",
    "le = preprocessing.LabelEncoder()\n",
    "\n",
    "df['failure_type']=le.fit_transform(df['failure_type'])\n",
    "df"
   ]
  },
  {
   "cell_type": "code",
   "execution_count": 17,
   "id": "e54123fa",
   "metadata": {},
   "outputs": [
    {
     "data": {
      "text/plain": [
       "1    6435\n",
       "0      75\n",
       "3      63\n",
       "2      52\n",
       "5      30\n",
       "4      12\n",
       "Name: failure_type, dtype: int64"
      ]
     },
     "execution_count": 17,
     "metadata": {},
     "output_type": "execute_result"
    }
   ],
   "source": [
    "df.failure_type.value_counts()"
   ]
  },
  {
   "cell_type": "code",
   "execution_count": 18,
   "id": "df473689",
   "metadata": {},
   "outputs": [
    {
     "data": {
      "text/plain": [
       "6667"
      ]
     },
     "execution_count": 18,
     "metadata": {},
     "output_type": "execute_result"
    }
   ],
   "source": [
    "df.failure_type.value_counts().sum()"
   ]
  },
  {
   "cell_type": "markdown",
   "id": "cb3620dd",
   "metadata": {},
   "source": [
    "Agora todos os dados do dataframe são númericos."
   ]
  },
  {
   "cell_type": "markdown",
   "id": "2c08bafe",
   "metadata": {},
   "source": [
    "# Analisando e tratando as demais colunas"
   ]
  },
  {
   "cell_type": "code",
   "execution_count": 19,
   "id": "39ba3fe1",
   "metadata": {},
   "outputs": [
    {
     "data": {
      "text/plain": [
       "<AxesSubplot:>"
      ]
     },
     "execution_count": 19,
     "metadata": {},
     "output_type": "execute_result"
    },
    {
     "data": {
      "image/png": "[encoded data removed]",
      "text/plain": [
       "<Figure size 432x288 with 1 Axes>"
      ]
     },
     "metadata": {
      "needs_background": "light"
     },
     "output_type": "display_data"
    }
   ],
   "source": [
    "df.boxplot('air_temperature_k')"
   ]
  },
  {
   "cell_type": "code",
   "execution_count": 20,
   "id": "c762c24c",
   "metadata": {},
   "outputs": [
    {
     "data": {
      "text/plain": [
       "<AxesSubplot:>"
      ]
     },
     "execution_count": 20,
     "metadata": {},
     "output_type": "execute_result"
    },
    {
     "data": {
      "image/png": "[encoded data removed]",
      "text/plain": [
       "<Figure size 432x288 with 1 Axes>"
      ]
     },
     "metadata": {
      "needs_background": "light"
     },
     "output_type": "display_data"
    }
   ],
   "source": [
    "df.boxplot('rotational_speed_rpm')"
   ]
  },
  {
   "cell_type": "code",
   "execution_count": 21,
   "id": "396b3e6c",
   "metadata": {},
   "outputs": [
    {
     "data": {
      "text/plain": [
       "<AxesSubplot:>"
      ]
     },
     "execution_count": 21,
     "metadata": {},
     "output_type": "execute_result"
    },
    {
     "data": {
      "image/png": "[encoded data removed]",
      "text/plain": [
       "<Figure size 432x288 with 1 Axes>"
      ]
     },
     "metadata": {
      "needs_background": "light"
     },
     "output_type": "display_data"
    }
   ],
   "source": [
    "df.boxplot('process_temperature_k')"
   ]
  },
  {
   "cell_type": "code",
   "execution_count": 22,
   "id": "ffcb3539",
   "metadata": {},
   "outputs": [
    {
     "data": {
      "text/plain": [
       "<AxesSubplot:>"
      ]
     },
     "execution_count": 22,
     "metadata": {},
     "output_type": "execute_result"
    },
    {
     "data": {
      "image/png": "[encoded data removed]",
      "text/plain": [
       "<Figure size 432x288 with 1 Axes>"
      ]
     },
     "metadata": {
      "needs_background": "light"
     },
     "output_type": "display_data"
    }
   ],
   "source": [
    "df.boxplot('torque_nm')"
   ]
  },
  {
   "cell_type": "markdown",
   "id": "f35f155e",
   "metadata": {},
   "source": [
    "Através dos gráficos acima, podemos perceber uma grande quantidade de outliers nas colunas rotational_speed_rpm e torque_nm\n",
    "\n",
    "Utilizarei o MinMax Scaler para escalonar os dados e depois tratar os outliers dessas duas colunas."
   ]
  },
  {
   "cell_type": "code",
   "execution_count": 23,
   "id": "75ad8fdc",
   "metadata": {},
   "outputs": [
    {
     "data": {
      "text/plain": [
       "Index(['type', 'air_temperature_k', 'process_temperature_k',\n",
       "       'rotational_speed_rpm', 'torque_nm', 'tool_wear_min'],\n",
       "      dtype='object')"
      ]
     },
     "execution_count": 23,
     "metadata": {},
     "output_type": "execute_result"
    }
   ],
   "source": [
    "col = df.columns[:-1]\n",
    "col"
   ]
  },
  {
   "cell_type": "code",
   "execution_count": 24,
   "id": "a267afab",
   "metadata": {},
   "outputs": [
    {
     "data": {
      "text/html": [
       "<div>\n",
       "<style scoped>\n",
       "    .dataframe tbody tr th:only-of-type {\n",
       "        vertical-align: middle;\n",
       "    }\n",
       "\n",
       "    .dataframe tbody tr th {\n",
       "        vertical-align: top;\n",
       "    }\n",
       "\n",
       "    .dataframe thead th {\n",
       "        text-align: right;\n",
       "    }\n",
       "</style>\n",
       "<table border=\"1\" class=\"dataframe\">\n",
       "  <thead>\n",
       "    <tr style=\"text-align: right;\">\n",
       "      <th></th>\n",
       "      <th>type</th>\n",
       "      <th>air_temperature_k</th>\n",
       "      <th>process_temperature_k</th>\n",
       "      <th>rotational_speed_rpm</th>\n",
       "      <th>torque_nm</th>\n",
       "      <th>tool_wear_min</th>\n",
       "      <th>failure_type</th>\n",
       "    </tr>\n",
       "  </thead>\n",
       "  <tbody>\n",
       "    <tr>\n",
       "      <th>0</th>\n",
       "      <td>1.0</td>\n",
       "      <td>0.304348</td>\n",
       "      <td>0.358025</td>\n",
       "      <td>0.222934</td>\n",
       "      <td>0.535714</td>\n",
       "      <td>0.000000</td>\n",
       "      <td>1</td>\n",
       "    </tr>\n",
       "    <tr>\n",
       "      <th>1</th>\n",
       "      <td>0.5</td>\n",
       "      <td>0.315217</td>\n",
       "      <td>0.370370</td>\n",
       "      <td>0.139697</td>\n",
       "      <td>0.583791</td>\n",
       "      <td>0.011952</td>\n",
       "      <td>1</td>\n",
       "    </tr>\n",
       "    <tr>\n",
       "      <th>2</th>\n",
       "      <td>0.5</td>\n",
       "      <td>0.315217</td>\n",
       "      <td>0.370370</td>\n",
       "      <td>0.139697</td>\n",
       "      <td>0.497253</td>\n",
       "      <td>0.035857</td>\n",
       "      <td>1</td>\n",
       "    </tr>\n",
       "    <tr>\n",
       "      <th>3</th>\n",
       "      <td>1.0</td>\n",
       "      <td>0.304348</td>\n",
       "      <td>0.358025</td>\n",
       "      <td>0.149593</td>\n",
       "      <td>0.523352</td>\n",
       "      <td>0.043825</td>\n",
       "      <td>1</td>\n",
       "    </tr>\n",
       "    <tr>\n",
       "      <th>4</th>\n",
       "      <td>0.5</td>\n",
       "      <td>0.304348</td>\n",
       "      <td>0.358025</td>\n",
       "      <td>0.227008</td>\n",
       "      <td>0.530220</td>\n",
       "      <td>0.055777</td>\n",
       "      <td>1</td>\n",
       "    </tr>\n",
       "    <tr>\n",
       "      <th>...</th>\n",
       "      <td>...</td>\n",
       "      <td>...</td>\n",
       "      <td>...</td>\n",
       "      <td>...</td>\n",
       "      <td>...</td>\n",
       "      <td>...</td>\n",
       "      <td>...</td>\n",
       "    </tr>\n",
       "    <tr>\n",
       "      <th>6662</th>\n",
       "      <td>0.5</td>\n",
       "      <td>0.380435</td>\n",
       "      <td>0.320988</td>\n",
       "      <td>0.271246</td>\n",
       "      <td>0.331044</td>\n",
       "      <td>0.047809</td>\n",
       "      <td>1</td>\n",
       "    </tr>\n",
       "    <tr>\n",
       "      <th>6663</th>\n",
       "      <td>1.0</td>\n",
       "      <td>0.380435</td>\n",
       "      <td>0.333333</td>\n",
       "      <td>0.253783</td>\n",
       "      <td>0.353022</td>\n",
       "      <td>0.055777</td>\n",
       "      <td>1</td>\n",
       "    </tr>\n",
       "    <tr>\n",
       "      <th>6664</th>\n",
       "      <td>0.0</td>\n",
       "      <td>0.391304</td>\n",
       "      <td>0.333333</td>\n",
       "      <td>0.270081</td>\n",
       "      <td>0.384615</td>\n",
       "      <td>0.067729</td>\n",
       "      <td>1</td>\n",
       "    </tr>\n",
       "    <tr>\n",
       "      <th>6665</th>\n",
       "      <td>0.0</td>\n",
       "      <td>0.402174</td>\n",
       "      <td>0.370370</td>\n",
       "      <td>0.139697</td>\n",
       "      <td>0.614011</td>\n",
       "      <td>0.099602</td>\n",
       "      <td>1</td>\n",
       "    </tr>\n",
       "    <tr>\n",
       "      <th>6666</th>\n",
       "      <td>1.0</td>\n",
       "      <td>0.402174</td>\n",
       "      <td>0.370370</td>\n",
       "      <td>0.193248</td>\n",
       "      <td>0.500000</td>\n",
       "      <td>0.119522</td>\n",
       "      <td>1</td>\n",
       "    </tr>\n",
       "  </tbody>\n",
       "</table>\n",
       "<p>6667 rows × 7 columns</p>\n",
       "</div>"
      ],
      "text/plain": [
       "      type  air_temperature_k  process_temperature_k  rotational_speed_rpm  \\\n",
       "0      1.0           0.304348               0.358025              0.222934   \n",
       "1      0.5           0.315217               0.370370              0.139697   \n",
       "2      0.5           0.315217               0.370370              0.139697   \n",
       "3      1.0           0.304348               0.358025              0.149593   \n",
       "4      0.5           0.304348               0.358025              0.227008   \n",
       "...    ...                ...                    ...                   ...   \n",
       "6662   0.5           0.380435               0.320988              0.271246   \n",
       "6663   1.0           0.380435               0.333333              0.253783   \n",
       "6664   0.0           0.391304               0.333333              0.270081   \n",
       "6665   0.0           0.402174               0.370370              0.139697   \n",
       "6666   1.0           0.402174               0.370370              0.193248   \n",
       "\n",
       "      torque_nm  tool_wear_min  failure_type  \n",
       "0      0.535714       0.000000             1  \n",
       "1      0.583791       0.011952             1  \n",
       "2      0.497253       0.035857             1  \n",
       "3      0.523352       0.043825             1  \n",
       "4      0.530220       0.055777             1  \n",
       "...         ...            ...           ...  \n",
       "6662   0.331044       0.047809             1  \n",
       "6663   0.353022       0.055777             1  \n",
       "6664   0.384615       0.067729             1  \n",
       "6665   0.614011       0.099602             1  \n",
       "6666   0.500000       0.119522             1  \n",
       "\n",
       "[6667 rows x 7 columns]"
      ]
     },
     "execution_count": 24,
     "metadata": {},
     "output_type": "execute_result"
    }
   ],
   "source": [
    "scaler = MinMaxScaler()\n",
    "df_scaled = scaler.fit_transform(df[col])\n",
    "df_scaled = pd.DataFrame(df_scaled, columns=col)\n",
    "df_scaled['failure_type'] = df['failure_type']\n",
    "df_scaled"
   ]
  },
  {
   "cell_type": "code",
   "execution_count": 25,
   "id": "9a007ca9",
   "metadata": {},
   "outputs": [
    {
     "data": {
      "text/plain": [
       "<AxesSubplot:>"
      ]
     },
     "execution_count": 25,
     "metadata": {},
     "output_type": "execute_result"
    },
    {
     "data": {
      "image/png": "[encoded data removed]",
      "text/plain": [
       "<Figure size 1152x1152 with 1 Axes>"
      ]
     },
     "metadata": {
      "needs_background": "light"
     },
     "output_type": "display_data"
    }
   ],
   "source": [
    "plt.figure(figsize=(16,16))\n",
    "df_scaled[col].boxplot()"
   ]
  },
  {
   "cell_type": "markdown",
   "id": "d4fc2682",
   "metadata": {},
   "source": [
    "# Tratando dos outliers"
   ]
  },
  {
   "cell_type": "code",
   "execution_count": 26,
   "id": "8fdae71c",
   "metadata": {},
   "outputs": [
    {
     "name": "stdout",
     "output_type": "stream",
     "text": [
      "Limite superior é  0.4238940628637953 \n",
      "Limite inferior é  -0.01731664726426077\n"
     ]
    }
   ],
   "source": [
    "#Coluna rotational_speed_rpm'\n",
    "Q3 = np.quantile(df_scaled['rotational_speed_rpm'],0.75)\n",
    "Q1 = np.quantile(df_scaled['rotational_speed_rpm'],0.25)\n",
    "IQR = Q3-Q1\n",
    "limite_sup = Q3+1.5*IQR\n",
    "limite_inf = Q1-1.5*IQR\n",
    "print('Limite superior é ',limite_sup,'\\nLimite inferior é ',limite_inf)"
   ]
  },
  {
   "cell_type": "code",
   "execution_count": 27,
   "id": "9f212c7f",
   "metadata": {},
   "outputs": [
    {
     "data": {
      "text/html": [
       "<div>\n",
       "<style scoped>\n",
       "    .dataframe tbody tr th:only-of-type {\n",
       "        vertical-align: middle;\n",
       "    }\n",
       "\n",
       "    .dataframe tbody tr th {\n",
       "        vertical-align: top;\n",
       "    }\n",
       "\n",
       "    .dataframe thead th {\n",
       "        text-align: right;\n",
       "    }\n",
       "</style>\n",
       "<table border=\"1\" class=\"dataframe\">\n",
       "  <thead>\n",
       "    <tr style=\"text-align: right;\">\n",
       "      <th></th>\n",
       "      <th>type</th>\n",
       "      <th>air_temperature_k</th>\n",
       "      <th>process_temperature_k</th>\n",
       "      <th>rotational_speed_rpm</th>\n",
       "      <th>torque_nm</th>\n",
       "      <th>tool_wear_min</th>\n",
       "      <th>failure_type</th>\n",
       "    </tr>\n",
       "  </thead>\n",
       "  <tbody>\n",
       "    <tr>\n",
       "      <th>73</th>\n",
       "      <td>0.5</td>\n",
       "      <td>0.380435</td>\n",
       "      <td>0.382716</td>\n",
       "      <td>0.479045</td>\n",
       "      <td>0.232143</td>\n",
       "      <td>0.235060</td>\n",
       "      <td>1</td>\n",
       "    </tr>\n",
       "    <tr>\n",
       "      <th>108</th>\n",
       "      <td>0.0</td>\n",
       "      <td>0.336957</td>\n",
       "      <td>0.308642</td>\n",
       "      <td>0.476717</td>\n",
       "      <td>0.219780</td>\n",
       "      <td>0.788845</td>\n",
       "      <td>1</td>\n",
       "    </tr>\n",
       "    <tr>\n",
       "      <th>125</th>\n",
       "      <td>0.5</td>\n",
       "      <td>0.315217</td>\n",
       "      <td>0.308642</td>\n",
       "      <td>0.477299</td>\n",
       "      <td>0.241758</td>\n",
       "      <td>0.163347</td>\n",
       "      <td>1</td>\n",
       "    </tr>\n",
       "    <tr>\n",
       "      <th>183</th>\n",
       "      <td>0.5</td>\n",
       "      <td>0.282609</td>\n",
       "      <td>0.283951</td>\n",
       "      <td>0.457509</td>\n",
       "      <td>0.237637</td>\n",
       "      <td>0.167331</td>\n",
       "      <td>1</td>\n",
       "    </tr>\n",
       "    <tr>\n",
       "      <th>208</th>\n",
       "      <td>0.0</td>\n",
       "      <td>0.282609</td>\n",
       "      <td>0.345679</td>\n",
       "      <td>0.559371</td>\n",
       "      <td>0.204670</td>\n",
       "      <td>0.501992</td>\n",
       "      <td>1</td>\n",
       "    </tr>\n",
       "    <tr>\n",
       "      <th>...</th>\n",
       "      <td>...</td>\n",
       "      <td>...</td>\n",
       "      <td>...</td>\n",
       "      <td>...</td>\n",
       "      <td>...</td>\n",
       "      <td>...</td>\n",
       "      <td>...</td>\n",
       "    </tr>\n",
       "    <tr>\n",
       "      <th>6566</th>\n",
       "      <td>1.0</td>\n",
       "      <td>0.391304</td>\n",
       "      <td>0.506173</td>\n",
       "      <td>0.746217</td>\n",
       "      <td>0.138736</td>\n",
       "      <td>0.354582</td>\n",
       "      <td>1</td>\n",
       "    </tr>\n",
       "    <tr>\n",
       "      <th>6572</th>\n",
       "      <td>1.0</td>\n",
       "      <td>0.391304</td>\n",
       "      <td>0.506173</td>\n",
       "      <td>0.453434</td>\n",
       "      <td>0.245879</td>\n",
       "      <td>0.418327</td>\n",
       "      <td>1</td>\n",
       "    </tr>\n",
       "    <tr>\n",
       "      <th>6583</th>\n",
       "      <td>0.5</td>\n",
       "      <td>0.380435</td>\n",
       "      <td>0.481481</td>\n",
       "      <td>0.427823</td>\n",
       "      <td>0.254121</td>\n",
       "      <td>0.577689</td>\n",
       "      <td>1</td>\n",
       "    </tr>\n",
       "    <tr>\n",
       "      <th>6612</th>\n",
       "      <td>1.0</td>\n",
       "      <td>0.347826</td>\n",
       "      <td>0.358025</td>\n",
       "      <td>0.424331</td>\n",
       "      <td>0.225275</td>\n",
       "      <td>0.199203</td>\n",
       "      <td>1</td>\n",
       "    </tr>\n",
       "    <tr>\n",
       "      <th>6621</th>\n",
       "      <td>0.0</td>\n",
       "      <td>0.326087</td>\n",
       "      <td>0.296296</td>\n",
       "      <td>0.854482</td>\n",
       "      <td>0.123626</td>\n",
       "      <td>0.334661</td>\n",
       "      <td>1</td>\n",
       "    </tr>\n",
       "  </tbody>\n",
       "</table>\n",
       "<p>270 rows × 7 columns</p>\n",
       "</div>"
      ],
      "text/plain": [
       "      type  air_temperature_k  process_temperature_k  rotational_speed_rpm  \\\n",
       "73     0.5           0.380435               0.382716              0.479045   \n",
       "108    0.0           0.336957               0.308642              0.476717   \n",
       "125    0.5           0.315217               0.308642              0.477299   \n",
       "183    0.5           0.282609               0.283951              0.457509   \n",
       "208    0.0           0.282609               0.345679              0.559371   \n",
       "...    ...                ...                    ...                   ...   \n",
       "6566   1.0           0.391304               0.506173              0.746217   \n",
       "6572   1.0           0.391304               0.506173              0.453434   \n",
       "6583   0.5           0.380435               0.481481              0.427823   \n",
       "6612   1.0           0.347826               0.358025              0.424331   \n",
       "6621   0.0           0.326087               0.296296              0.854482   \n",
       "\n",
       "      torque_nm  tool_wear_min  failure_type  \n",
       "73     0.232143       0.235060             1  \n",
       "108    0.219780       0.788845             1  \n",
       "125    0.241758       0.163347             1  \n",
       "183    0.237637       0.167331             1  \n",
       "208    0.204670       0.501992             1  \n",
       "...         ...            ...           ...  \n",
       "6566   0.138736       0.354582             1  \n",
       "6572   0.245879       0.418327             1  \n",
       "6583   0.254121       0.577689             1  \n",
       "6612   0.225275       0.199203             1  \n",
       "6621   0.123626       0.334661             1  \n",
       "\n",
       "[270 rows x 7 columns]"
      ]
     },
     "execution_count": 27,
     "metadata": {},
     "output_type": "execute_result"
    }
   ],
   "source": [
    "df_scaled[df_scaled['rotational_speed_rpm']>0.4234575087310828]"
   ]
  },
  {
   "cell_type": "code",
   "execution_count": 28,
   "id": "440e891e",
   "metadata": {},
   "outputs": [
    {
     "data": {
      "text/html": [
       "<div>\n",
       "<style scoped>\n",
       "    .dataframe tbody tr th:only-of-type {\n",
       "        vertical-align: middle;\n",
       "    }\n",
       "\n",
       "    .dataframe tbody tr th {\n",
       "        vertical-align: top;\n",
       "    }\n",
       "\n",
       "    .dataframe thead th {\n",
       "        text-align: right;\n",
       "    }\n",
       "</style>\n",
       "<table border=\"1\" class=\"dataframe\">\n",
       "  <thead>\n",
       "    <tr style=\"text-align: right;\">\n",
       "      <th></th>\n",
       "      <th>type</th>\n",
       "      <th>air_temperature_k</th>\n",
       "      <th>process_temperature_k</th>\n",
       "      <th>rotational_speed_rpm</th>\n",
       "      <th>torque_nm</th>\n",
       "      <th>tool_wear_min</th>\n",
       "      <th>failure_type</th>\n",
       "    </tr>\n",
       "  </thead>\n",
       "  <tbody>\n",
       "    <tr>\n",
       "      <th>count</th>\n",
       "      <td>6667.000000</td>\n",
       "      <td>6667.000000</td>\n",
       "      <td>6667.000000</td>\n",
       "      <td>6667.000000</td>\n",
       "      <td>6667.000000</td>\n",
       "      <td>6667.000000</td>\n",
       "      <td>6667.000000</td>\n",
       "    </tr>\n",
       "    <tr>\n",
       "      <th>mean</th>\n",
       "      <td>0.599670</td>\n",
       "      <td>0.510056</td>\n",
       "      <td>0.529953</td>\n",
       "      <td>0.201385</td>\n",
       "      <td>0.498056</td>\n",
       "      <td>0.430670</td>\n",
       "      <td>1.038848</td>\n",
       "    </tr>\n",
       "    <tr>\n",
       "      <th>std</th>\n",
       "      <td>0.298767</td>\n",
       "      <td>0.216816</td>\n",
       "      <td>0.183716</td>\n",
       "      <td>0.074683</td>\n",
       "      <td>0.136687</td>\n",
       "      <td>0.252430</td>\n",
       "      <td>0.378887</td>\n",
       "    </tr>\n",
       "    <tr>\n",
       "      <th>min</th>\n",
       "      <td>0.000000</td>\n",
       "      <td>0.000000</td>\n",
       "      <td>0.000000</td>\n",
       "      <td>0.000000</td>\n",
       "      <td>0.000000</td>\n",
       "      <td>0.000000</td>\n",
       "      <td>0.000000</td>\n",
       "    </tr>\n",
       "    <tr>\n",
       "      <th>25%</th>\n",
       "      <td>0.500000</td>\n",
       "      <td>0.326087</td>\n",
       "      <td>0.382716</td>\n",
       "      <td>0.148137</td>\n",
       "      <td>0.403846</td>\n",
       "      <td>0.215139</td>\n",
       "      <td>1.000000</td>\n",
       "    </tr>\n",
       "    <tr>\n",
       "      <th>50%</th>\n",
       "      <td>0.500000</td>\n",
       "      <td>0.510870</td>\n",
       "      <td>0.530864</td>\n",
       "      <td>0.194994</td>\n",
       "      <td>0.500000</td>\n",
       "      <td>0.430279</td>\n",
       "      <td>1.000000</td>\n",
       "    </tr>\n",
       "    <tr>\n",
       "      <th>75%</th>\n",
       "      <td>1.000000</td>\n",
       "      <td>0.673913</td>\n",
       "      <td>0.666667</td>\n",
       "      <td>0.244761</td>\n",
       "      <td>0.590659</td>\n",
       "      <td>0.645418</td>\n",
       "      <td>1.000000</td>\n",
       "    </tr>\n",
       "    <tr>\n",
       "      <th>max</th>\n",
       "      <td>1.000000</td>\n",
       "      <td>1.000000</td>\n",
       "      <td>1.000000</td>\n",
       "      <td>0.423166</td>\n",
       "      <td>1.000000</td>\n",
       "      <td>1.000000</td>\n",
       "      <td>5.000000</td>\n",
       "    </tr>\n",
       "  </tbody>\n",
       "</table>\n",
       "</div>"
      ],
      "text/plain": [
       "              type  air_temperature_k  process_temperature_k  \\\n",
       "count  6667.000000        6667.000000            6667.000000   \n",
       "mean      0.599670           0.510056               0.529953   \n",
       "std       0.298767           0.216816               0.183716   \n",
       "min       0.000000           0.000000               0.000000   \n",
       "25%       0.500000           0.326087               0.382716   \n",
       "50%       0.500000           0.510870               0.530864   \n",
       "75%       1.000000           0.673913               0.666667   \n",
       "max       1.000000           1.000000               1.000000   \n",
       "\n",
       "       rotational_speed_rpm    torque_nm  tool_wear_min  failure_type  \n",
       "count           6667.000000  6667.000000    6667.000000   6667.000000  \n",
       "mean               0.201385     0.498056       0.430670      1.038848  \n",
       "std                0.074683     0.136687       0.252430      0.378887  \n",
       "min                0.000000     0.000000       0.000000      0.000000  \n",
       "25%                0.148137     0.403846       0.215139      1.000000  \n",
       "50%                0.194994     0.500000       0.430279      1.000000  \n",
       "75%                0.244761     0.590659       0.645418      1.000000  \n",
       "max                0.423166     1.000000       1.000000      5.000000  "
      ]
     },
     "execution_count": 28,
     "metadata": {},
     "output_type": "execute_result"
    }
   ],
   "source": [
    "mean_rpm = df_scaled[df_scaled['rotational_speed_rpm']<=0.4234575087310828]['rotational_speed_rpm'].mean()\n",
    "df_scaled['rotational_speed_rpm']=np.where(df_scaled['rotational_speed_rpm']>0.4234575087310828,mean_rpm,df_scaled['rotational_speed_rpm'])\n",
    "df_scaled.describe()\n"
   ]
  },
  {
   "cell_type": "code",
   "execution_count": 29,
   "id": "1726933d",
   "metadata": {},
   "outputs": [
    {
     "name": "stdout",
     "output_type": "stream",
     "text": [
      "Limite superior é  0.8708791208791206 \n",
      "Limite inferior é  0.12362637362637391\n"
     ]
    }
   ],
   "source": [
    "#Coluna torque_nm\n",
    "Q3 = np.quantile(df_scaled['torque_nm'],0.75)\n",
    "Q1 = np.quantile(df_scaled['torque_nm'],0.25)\n",
    "IQR = Q3-Q1\n",
    "limite_sup = Q3+1.5*IQR\n",
    "limite_inf = Q1-1.5*IQR\n",
    "print('Limite superior é ',limite_sup,'\\nLimite inferior é ',limite_inf)"
   ]
  },
  {
   "cell_type": "code",
   "execution_count": 30,
   "id": "57323a63",
   "metadata": {},
   "outputs": [],
   "source": [
    "mean_torque = df_scaled[df_scaled['torque_nm']<=0.8708791208791206]['torque_nm'].mean()\n",
    "\n",
    "df_scaled['torque_nm']=np.where(df_scaled['torque_nm']>0.8708791208791206,mean_torque,df_scaled['torque_nm'])\n",
    "\n",
    "df_scaled['torque_nm']=np.where(df_scaled['torque_nm']<0.12362637362637391,mean_torque,df_scaled['torque_nm'])"
   ]
  },
  {
   "cell_type": "code",
   "execution_count": 31,
   "id": "77aa6e73",
   "metadata": {
    "scrolled": true
   },
   "outputs": [
    {
     "data": {
      "text/plain": [
       "<AxesSubplot:>"
      ]
     },
     "execution_count": 31,
     "metadata": {},
     "output_type": "execute_result"
    },
    {
     "data": {
      "image/png": "[encoded data removed]",
      "text/plain": [
       "<Figure size 1152x1152 with 1 Axes>"
      ]
     },
     "metadata": {
      "needs_background": "light"
     },
     "output_type": "display_data"
    }
   ],
   "source": [
    "plt.figure(figsize=(16,16))\n",
    "df_scaled[col].boxplot()"
   ]
  },
  {
   "cell_type": "markdown",
   "id": "20e5d8f6",
   "metadata": {},
   "source": [
    "Visualização dos outliers após o tratamento utilizando variação interquartil e média."
   ]
  },
  {
   "cell_type": "markdown",
   "id": "791a80e3",
   "metadata": {},
   "source": [
    "# Criando a coluna target"
   ]
  },
  {
   "cell_type": "code",
   "execution_count": 32,
   "id": "da5a989e",
   "metadata": {},
   "outputs": [],
   "source": [
    "df_scaled['target'] = df_scaled['failure_type']\n",
    "df_scaled['target'] = df_scaled['target'].replace(1, 11)\n",
    "df_scaled['target'] = df_scaled['target'].replace(0, 1)\n",
    "df_scaled['target'] = df_scaled['target'].replace(2, 1)\n",
    "df_scaled['target'] = df_scaled['target'].replace(3, 1)\n",
    "df_scaled['target'] = df_scaled['target'].replace(4, 1)\n",
    "df_scaled['target'] = df_scaled['target'].replace(5, 1)\n",
    "df_scaled['target'] = df_scaled['target'].replace(11, 0)"
   ]
  },
  {
   "cell_type": "markdown",
   "id": "a7600e53",
   "metadata": {},
   "source": [
    "Como haviam 6 tipos de dados na coluna Failure Type, após a categorização, os dados aperecem de 0 a 5, porém eu quero apenas saber quais apresentaram algum tipo de falha e outros não, não a falha especificamente, para isso criei uma nova coluna com os dados divididos em 0 (Não falha) e 1 (Falha)"
   ]
  },
  {
   "cell_type": "markdown",
   "id": "82cebaa3",
   "metadata": {},
   "source": [
    "# Dividindo o conjunto de dados em treinamento e testes e preparar as entradas e saídas"
   ]
  },
  {
   "cell_type": "code",
   "execution_count": 33,
   "id": "267d52dc",
   "metadata": {},
   "outputs": [],
   "source": [
    "from sklearn.feature_selection import VarianceThreshold"
   ]
  },
  {
   "cell_type": "code",
   "execution_count": 34,
   "id": "35d70ae0",
   "metadata": {},
   "outputs": [
    {
     "data": {
      "text/plain": [
       "type                     True\n",
       "air_temperature_k        True\n",
       "process_temperature_k    True\n",
       "rotational_speed_rpm     True\n",
       "torque_nm                True\n",
       "tool_wear_min            True\n",
       "failure_type             True\n",
       "target                   True\n",
       "dtype: bool"
      ]
     },
     "execution_count": 34,
     "metadata": {},
     "output_type": "execute_result"
    }
   ],
   "source": [
    "var_thr = VarianceThreshold(threshold=0)\n",
    "var_thr.fit_transform(df_scaled)\n",
    "var_thr.get_support()\n",
    "pd.Series(var_thr.get_support(),index=df_scaled.columns)"
   ]
  },
  {
   "cell_type": "code",
   "execution_count": 35,
   "id": "aecd0539",
   "metadata": {},
   "outputs": [],
   "source": [
    "X = df_scaled.drop(['target', 'failure_type'], axis=1)\n",
    "y = df_scaled['target']"
   ]
  },
  {
   "cell_type": "code",
   "execution_count": 36,
   "id": "d2ea0f42",
   "metadata": {},
   "outputs": [],
   "source": [
    "X_train, X_test, y_train, y_test = train_test_split(X,y,test_size = 0.3, shuffle=False)"
   ]
  },
  {
   "cell_type": "markdown",
   "id": "fe5c7fcf",
   "metadata": {},
   "source": [
    "Para este caso, separei 30% das informações totais para teste, e os restantes para treino."
   ]
  },
  {
   "cell_type": "markdown",
   "id": "2e33f938",
   "metadata": {},
   "source": [
    "# Modelo"
   ]
  },
  {
   "cell_type": "code",
   "execution_count": 37,
   "id": "c969bb45",
   "metadata": {},
   "outputs": [],
   "source": [
    "from sklearn.ensemble import RandomForestClassifier"
   ]
  },
  {
   "cell_type": "code",
   "execution_count": 38,
   "id": "2b16cee4",
   "metadata": {},
   "outputs": [],
   "source": [
    "RF_model = RandomForestClassifier()\n",
    "RF_model.fit(X_train,y_train)\n",
    "y_pred_RF = RF_model.predict(X_test)"
   ]
  },
  {
   "cell_type": "code",
   "execution_count": 39,
   "id": "4765a779",
   "metadata": {},
   "outputs": [
    {
     "name": "stdout",
     "output_type": "stream",
     "text": [
      "A acurácia do modelo Random Forest é:  98.60069965017492\n"
     ]
    }
   ],
   "source": [
    "accuracy_rf = accuracy_score(y_test,y_pred_RF)\n",
    "print('A acurácia do modelo Random Forest é: ',accuracy_rf*100)"
   ]
  },
  {
   "cell_type": "markdown",
   "id": "5f52f340",
   "metadata": {},
   "source": [
    "Alem deste modelo também testei outros, dentro eles o XGBClassifier que obteve a segunda melhor acurácia, 98,23%, pouco abaixo do modelo acima. Sendo assim, mantive apenas o melhor modelo para este desafio. "
   ]
  },
  {
   "cell_type": "markdown",
   "id": "57db8a36",
   "metadata": {},
   "source": [
    "# Serialização de objetos"
   ]
  },
  {
   "cell_type": "code",
   "execution_count": 40,
   "id": "4601e71d",
   "metadata": {},
   "outputs": [],
   "source": [
    "import pickle\n",
    "with open ('RF_model.pickle','wb') as model:\n",
    "    pickle.dump(RF_model,model)\n",
    "    model.close()"
   ]
  },
  {
   "cell_type": "markdown",
   "id": "07c272d0",
   "metadata": {},
   "source": [
    "Utilizei o pickle para gerar o arquivo com o modelo final. Este arquivo será utilizado no arquivo de teste."
   ]
  }
 ],
 "metadata": {
  "kernelspec": {
   "display_name": "Python 3 (ipykernel)",
   "language": "python",
   "name": "python3"
  },
  "language_info": {
   "codemirror_mode": {
    "name": "ipython",
    "version": 3
   },
   "file_extension": ".py",
   "mimetype": "text/x-python",
   "name": "python",
   "nbconvert_exporter": "python",
   "pygments_lexer": "ipython3",
   "version": "3.9.7"
  }
 },
 "nbformat": 4,
 "nbformat_minor": 5
}
